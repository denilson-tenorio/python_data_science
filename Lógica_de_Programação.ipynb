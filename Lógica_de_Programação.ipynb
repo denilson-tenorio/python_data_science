{
  "nbformat": 4,
  "nbformat_minor": 0,
  "metadata": {
    "colab": {
      "provenance": [],
      "authorship_tag": "ABX9TyMOy3XMzf/dhsy6CgQpsd8y",
      "include_colab_link": true
    },
    "kernelspec": {
      "name": "python3",
      "display_name": "Python 3"
    },
    "language_info": {
      "name": "python"
    }
  },
  "cells": [
    {
      "cell_type": "markdown",
      "metadata": {
        "id": "view-in-github",
        "colab_type": "text"
      },
      "source": [
        "<a href=\"https://colab.research.google.com/github/denilson-tenorio/python_data_science/blob/main/L%C3%B3gica_de_Programa%C3%A7%C3%A3o.ipynb\" target=\"_parent\"><img src=\"https://colab.research.google.com/assets/colab-badge.svg\" alt=\"Open In Colab\"/></a>"
      ]
    },
    {
      "cell_type": "markdown",
      "source": [
        "## Lógica de Programação com Python   30/12/2022 e 31/12/2022 ☕"
      ],
      "metadata": {
        "id": "v0Lm-0fF4Uhl"
      }
    },
    {
      "cell_type": "code",
      "source": [
        "nome = 'Denilson ';\n",
        "sobrenome = 'Tenório ';\n",
        "idade = 24;\n",
        "print(f'O nome é {nome} e sua idade é {idade} anos');"
      ],
      "metadata": {
        "colab": {
          "base_uri": "https://localhost:8080/"
        },
        "id": "PjUMFREU5vqa",
        "outputId": "67b98b7b-ad9e-4cd9-d384-3b4371f54f6a"
      },
      "execution_count": null,
      "outputs": [
        {
          "output_type": "stream",
          "name": "stdout",
          "text": [
            "O nome é Denilson  e sua idade é 24 anos\n"
          ]
        }
      ]
    },
    {
      "cell_type": "markdown",
      "source": [
        "Criando minha primeira função"
      ],
      "metadata": {
        "id": "XaqrA--S68U3"
      }
    },
    {
      "cell_type": "code",
      "source": [
        "def saudacao():\n",
        "  nome = input('Qual o seu nome? '); \n",
        "  print(f'Olá, {nome}!');"
      ],
      "metadata": {
        "id": "kLTGGJrT7Bj2"
      },
      "execution_count": null,
      "outputs": []
    },
    {
      "cell_type": "code",
      "source": [
        "saudacao()"
      ],
      "metadata": {
        "colab": {
          "base_uri": "https://localhost:8080/"
        },
        "id": "uJ1w0uEW7itu",
        "outputId": "9c07b9cd-49c4-4d5f-f6ee-667a0538f8ae"
      },
      "execution_count": null,
      "outputs": [
        {
          "output_type": "stream",
          "name": "stdout",
          "text": [
            "Qual o seu nome? Denilson\n",
            "Olá, Denilson!\n"
          ]
        }
      ]
    },
    {
      "cell_type": "code",
      "source": [
        "def registro():\n",
        "  print('Olá, vamos fazer o seu cadastro: ');\n",
        "  primeiro_nome = input('Qual o seu primeiro nome? ');\n",
        "  segundo_nome = input('Qual o seu sobrenome? ');\n",
        "  nome_completo = primeiro_nome + ' ' +segundo_nome;\n",
        "  idade = input('Qual a sua idade? '); \n",
        "  print(f'Cliente: {nome_completo} de {idade} anos de idade');\n",
        "\n",
        "registro();"
      ],
      "metadata": {
        "colab": {
          "base_uri": "https://localhost:8080/"
        },
        "id": "paY7I9UI-Em9",
        "outputId": "7b5ce8d7-9775-4252-cbb1-23f4304e33f3"
      },
      "execution_count": null,
      "outputs": [
        {
          "output_type": "stream",
          "name": "stdout",
          "text": [
            "Olá, vamos fazer o seu cadastro: \n",
            "Qual o seu primeiro nome? Maria\n",
            "Qual o seu sobrenome? Cavalcante \n",
            "Qual a sua idade? 39\n",
            "Cliente: Maria Cavalcante  de 39 anos de idade\n"
          ]
        }
      ]
    },
    {
      "cell_type": "markdown",
      "source": [
        "# Parâmetros\n",
        "\n",
        "Igual em matemática!\n"
      ],
      "metadata": {
        "id": "MZjCC3cMKgZS"
      }
    },
    {
      "cell_type": "code",
      "source": [
        "nome = 'luiza';\n",
        "def saudacao_com_parametro(nome_do_cliente):\n",
        "  print(f'Olá {nome_do_cliente}')\n",
        "\n",
        "saudacao_com_parametro(nome)"
      ],
      "metadata": {
        "colab": {
          "base_uri": "https://localhost:8080/"
        },
        "id": "ZrdlPvi5BrMk",
        "outputId": "e4e423e0-4e7b-4ca7-9be6-0fe2f0550954"
      },
      "execution_count": null,
      "outputs": [
        {
          "output_type": "stream",
          "name": "stdout",
          "text": [
            "Olá luiza\n"
          ]
        }
      ]
    },
    {
      "cell_type": "markdown",
      "source": [
        "# Condicional\n",
        "\n"
      ],
      "metadata": {
        "id": "oHL_pdfZKzu7"
      }
    },
    {
      "cell_type": "code",
      "source": [],
      "metadata": {
        "id": "_GlJANiFQuvs"
      },
      "execution_count": null,
      "outputs": []
    },
    {
      "cell_type": "code",
      "source": [
        "def registro():\n",
        "  print('Olá, vamos fazer o seu cadastro: ');\n",
        "  primeiro_nome = input('Qual o seu primeiro nome? ');\n",
        "  segundo_nome = input('Qual o seu sobrenome? ');\n",
        "  nome_completo = primeiro_nome + ' ' +segundo_nome;\n",
        "  print(f'Cliente: {nome_completo}');\n",
        "  idade = int(input('Qual sua idade? '))\n",
        "  if idade >= 18:\n",
        "    print(f'O cliente {nome_completo} já pode dirigir!');\n",
        "  else:\n",
        "    print(f'O cliente {nome_completo} ainda não pode dirigir!');\n",
        "\n",
        "\n",
        "\n",
        "def verifica_idade_cliente():\n",
        "  idade = int(input('Qual sua idade? '))\n",
        "  if idade >= 18:\n",
        "    print(f'O cliente já pode dirigir!');\n",
        "  else:\n",
        "    print(f'O cliente ainda não pode dirigir!');\n",
        "\n",
        "registro()\n"
      ],
      "metadata": {
        "colab": {
          "base_uri": "https://localhost:8080/"
        },
        "id": "Fh7hfYbeK2yc",
        "outputId": "e4fac498-1365-4f57-983b-0ee07a2b4528"
      },
      "execution_count": null,
      "outputs": [
        {
          "output_type": "stream",
          "name": "stdout",
          "text": [
            "Olá, vamos fazer o seu cadastro: \n",
            "Qual o seu primeiro nome? Maria \n",
            "Qual o seu sobrenome? Silva \n",
            "Cliente: Maria  Silva \n",
            "Qual sua idade? 17\n",
            "O cliente Maria  Silva  ainda não pode dirigir!\n"
          ]
        }
      ]
    },
    {
      "cell_type": "markdown",
      "source": [
        "#Listas\n",
        "\n",
        "\n",
        "*   Lembra que sempre começa pelo zero\n",
        "*   -t volta o parametro\n",
        "*   [0:2]=[0,2) na matemática\n",
        "\n"
      ],
      "metadata": {
        "id": "ct8mAgOPPix6"
      }
    },
    {
      "cell_type": "code",
      "source": [
        "idade = 24\n",
        "type(idade)"
      ],
      "metadata": {
        "colab": {
          "base_uri": "https://localhost:8080/"
        },
        "id": "IXJGIS3WPlWR",
        "outputId": "5c78da5f-2608-4408-bb36-21506b8e4afb"
      },
      "execution_count": null,
      "outputs": [
        {
          "output_type": "execute_result",
          "data": {
            "text/plain": [
              "int"
            ]
          },
          "metadata": {},
          "execution_count": 50
        }
      ]
    },
    {
      "cell_type": "code",
      "source": [
        "registro = ['Maria', 'Clara', 25]\n",
        "type(registro)\n"
      ],
      "metadata": {
        "colab": {
          "base_uri": "https://localhost:8080/"
        },
        "id": "W_Hw0KxXPwrn",
        "outputId": "3c104ab5-e638-4c5c-df0b-f8bd5cf78b01"
      },
      "execution_count": null,
      "outputs": [
        {
          "output_type": "execute_result",
          "data": {
            "text/plain": [
              "list"
            ]
          },
          "metadata": {},
          "execution_count": 51
        }
      ]
    },
    {
      "cell_type": "code",
      "source": [
        "registro = ['Maria', 'Clara', 25]\n",
        "registro[-1]\n"
      ],
      "metadata": {
        "colab": {
          "base_uri": "https://localhost:8080/"
        },
        "id": "1m_X41N1P9gQ",
        "outputId": "4c6b09da-e58f-405a-e2c1-5511a1c55058"
      },
      "execution_count": null,
      "outputs": [
        {
          "output_type": "execute_result",
          "data": {
            "text/plain": [
              "25"
            ]
          },
          "metadata": {},
          "execution_count": 55
        }
      ]
    },
    {
      "cell_type": "markdown",
      "source": [
        "# Laços e Loops "
      ],
      "metadata": {
        "id": "W2RzC_70QwW5"
      }
    },
    {
      "cell_type": "code",
      "source": [
        "idades =[15, 21, 35, 18, 19, 59]\n",
        "\n",
        "#for fora da função:\n",
        "\n",
        "def verifica_idade_parametro(idade):\n",
        "  if idade >= 18:\n",
        "    print(f'{idade} anos de idade, tem permissão para dirigir')\n",
        "  else: \n",
        "    print(f'{idade} anos de idade, não tem permissão para dirigir')\n",
        "\n",
        "for idade in idades: \n",
        "  verifica_idade_parametro(idade)\n"
      ],
      "metadata": {
        "colab": {
          "base_uri": "https://localhost:8080/"
        },
        "id": "U4CkRp-fQ3DS",
        "outputId": "f7ddb5e4-68d0-4239-97af-50c31b40a823"
      },
      "execution_count": null,
      "outputs": [
        {
          "output_type": "stream",
          "name": "stdout",
          "text": [
            "15 anos de idade, não tem permissão para dirigir\n",
            "21 anos de idade, tem permissão para dirigir\n",
            "35 anos de idade, tem permissão para dirigir\n",
            "18 anos de idade, tem permissão para dirigir\n",
            "19 anos de idade, tem permissão para dirigir\n",
            "59 anos de idade, tem permissão para dirigir\n"
          ]
        }
      ]
    },
    {
      "cell_type": "code",
      "source": [
        "#for dentro da função: \n",
        "\n",
        "def verifica_idades_parametro(idades):\n",
        "  for idade in idades: \n",
        "      if idade >= 18:\n",
        "        print(f'{idade} anos de idade, tem permissão para dirigir')\n",
        "      else: \n",
        "        print(f'{idade} anos de idade, não tem permissão para dirigir')\n",
        "\n",
        "verifica_idades_parametro(idades)"
      ],
      "metadata": {
        "colab": {
          "base_uri": "https://localhost:8080/"
        },
        "id": "xahOzjv9SEGK",
        "outputId": "50d3b8a0-cbca-45ac-de10-f31bd57ef296"
      },
      "execution_count": null,
      "outputs": [
        {
          "output_type": "stream",
          "name": "stdout",
          "text": [
            "15 anos de idade, não tem permissão para dirigir\n",
            "21 anos de idade, tem permissão para dirigir\n",
            "35 anos de idade, tem permissão para dirigir\n",
            "18 anos de idade, tem permissão para dirigir\n",
            "19 anos de idade, tem permissão para dirigir\n",
            "59 anos de idade, tem permissão para dirigir\n"
          ]
        }
      ]
    },
    {
      "cell_type": "markdown",
      "source": [
        "# Boleano \n",
        "\n",
        "* Igual a lógica matemática!"
      ],
      "metadata": {
        "id": "TYzKB0mHSwHh"
      }
    },
    {
      "cell_type": "code",
      "source": [
        "idade = 18\n",
        "idade >= 29\n"
      ],
      "metadata": {
        "colab": {
          "base_uri": "https://localhost:8080/"
        },
        "id": "9h8CLmfvSy7Q",
        "outputId": "d3f26211-e8dc-4b0d-bc6b-30f9303559db"
      },
      "execution_count": null,
      "outputs": [
        {
          "output_type": "execute_result",
          "data": {
            "text/plain": [
              "False"
            ]
          },
          "metadata": {},
          "execution_count": 63
        }
      ]
    },
    {
      "cell_type": "code",
      "source": [
        "permissoes = []\n",
        "idades =[15, 21, 35, 18, 19, 59]\n",
        "\n",
        "def verifica(idades, permissoes):\n",
        "  for idade in idades: \n",
        "    if idade >=18:\n",
        "      permissoes.append(True)\n",
        "    else:\n",
        "      permissoes.append(False)\n",
        "\n",
        "\n",
        "verifica(idades, permissoes)\n",
        "\n",
        "for permissao in permissoes: \n",
        "  if  permissao == True:\n",
        "    print('Tem permissão!')\n",
        "  else: \n",
        "    print('Não tem permissão!')"
      ],
      "metadata": {
        "colab": {
          "base_uri": "https://localhost:8080/"
        },
        "id": "keB3_iqgS5-_",
        "outputId": "da211638-7e48-489e-db56-5b72a8688d14"
      },
      "execution_count": null,
      "outputs": [
        {
          "output_type": "stream",
          "name": "stdout",
          "text": [
            "Não tem permissão!\n",
            "Tem permissão!\n",
            "Tem permissão!\n",
            "Tem permissão!\n",
            "Tem permissão!\n",
            "Tem permissão!\n"
          ]
        }
      ]
    },
    {
      "cell_type": "markdown",
      "source": [
        "# Tipos em uma lista\n",
        "\n",
        "Dá pra por vários tipos em uma mesma lista, é tipo um vetor cujas coordenadas são variáveis, strings ou boleanos."
      ],
      "metadata": {
        "id": "mTXvfzdM7pDR"
      }
    },
    {
      "cell_type": "code",
      "source": [
        "coisas = ['Denilson', 'Tenório', 24, True]\n",
        "for coisa in coisas:\n",
        "  print(f'O elemento {coisa} é do tipo', type(coisa))\n"
      ],
      "metadata": {
        "colab": {
          "base_uri": "https://localhost:8080/"
        },
        "id": "yLnXeXhB74xm",
        "outputId": "8b814572-41f5-4808-cad9-c154e816558d"
      },
      "execution_count": 1,
      "outputs": [
        {
          "output_type": "stream",
          "name": "stdout",
          "text": [
            "O elemento Denilson é do tipo <class 'str'>\n",
            "O elemento Tenório é do tipo <class 'str'>\n",
            "O elemento 24 é do tipo <class 'int'>\n",
            "O elemento True é do tipo <class 'bool'>\n"
          ]
        }
      ]
    },
    {
      "cell_type": "markdown",
      "source": [
        "# Import\n",
        "* Random \n",
        "* Matplotlib"
      ],
      "metadata": {
        "id": "Jgqi99Wz8rgu"
      }
    },
    {
      "cell_type": "code",
      "source": [
        "from random import randrange, seed\n",
        "\n",
        "notas_matematica = []\n",
        "\n",
        "for notas in range(8):\n",
        "  notas_matematica.append(randrange(0,11))\n",
        "\n",
        "import matplotlib.pyplot as plt\n",
        "\n",
        "x = list(range(8))\n",
        "y = notas_matematica\n",
        "\n",
        "plt.plot(x, y, marker = 'o')\n",
        "plt.title('Notas matemáticas')\n",
        "plt.xlabel('Provas')\n",
        "plt.ylabel('Notas')\n",
        "plt.show\n",
        "\n"
      ],
      "metadata": {
        "colab": {
          "base_uri": "https://localhost:8080/",
          "height": 312
        },
        "id": "vk7MvrbN8eUt",
        "outputId": "1ac33c33-a864-4893-acab-648a0db89747"
      },
      "execution_count": 38,
      "outputs": [
        {
          "output_type": "execute_result",
          "data": {
            "text/plain": [
              "<function matplotlib.pyplot.show(*args, **kw)>"
            ]
          },
          "metadata": {},
          "execution_count": 38
        },
        {
          "output_type": "display_data",
          "data": {
            "text/plain": [
              "<Figure size 432x288 with 1 Axes>"
            ],
            "image/png": "[encoded data removed]"
          },
          "metadata": {
            "needs_background": "light"
          }
        }
      ]
    }
  ]
}